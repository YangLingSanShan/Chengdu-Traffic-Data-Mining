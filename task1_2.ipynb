{
 "cells": [
  {
   "cell_type": "code",
   "execution_count": 1,
   "metadata": {},
   "outputs": [],
   "source": [
    "import pandas as pd\n",
    "import geopandas as gpd\n",
    "from gotrackit.map.Net import Net\n",
    "from gotrackit.MapMatch import MapMatch\n",
    "from gotrackit.model.Para import ParaGrid"
   ]
  },
  {
   "cell_type": "code",
   "execution_count": null,
   "metadata": {},
   "outputs": [],
   "source": [
    "if __name__ == '__main__':\n",
    "\n",
    "    gps_df = pd.read_csv(r'./product_data/gps_data.csv')\n",
    "\n",
    "    # 请留意shp文件的编码，可以显示指定encoding，确保字段没有乱码\n",
    "    link = gpd.read_file(r'./product_data/roads/roads.shp')\n",
    "    node = gpd.read_file(r'./product_data/nodes/nodes.shp')\n",
    "    my_net = Net(link_gdf=link, node_gdf=node)\n",
    "    my_net.init_net()\n",
    "\n",
    "\n",
    "    # 3. 新建一个网格参数对象\n",
    "    # 指定参数的取值范围列表\n",
    "    # 可指定四个参数列表\n",
    "    # beta_list: list[float] = None，gps_sigma_list: list[float] = None\n",
    "    # use_heading_inf_list: list[bool] = None，omitted_l_list: list[float] = None\n",
    "    pgd = ParaGrid(use_heading_inf_list=[False, True], beta_list=[0.1, 1.0], gps_sigma_list=[1.0, 5.0])\n",
    "\n",
    "    # 4. 匹配\n",
    "    # 传入网格参数：use_para_grid=True, para_grid=pgd\n",
    "    mpm = MapMatch(net=my_net, is_rolling_average=True, window=2, flag_name='dense_example',\n",
    "               export_html=True, export_geo_res=True,\n",
    "               gps_buffer=400,\n",
    "               out_fldr=r'./product_data/',\n",
    "               dense_gps=True,\n",
    "               use_sub_net=True, dense_interval=50.0, use_gps_source=False, use_heading_inf=True,\n",
    "               gps_radius=15.0, use_para_grid=True, para_grid=pgd)\n",
    "    res, warn_info, error_info = mpm.multi_core_execute(gps_df=gps_df, core_num=6)\n",
    "    print(res)\n",
    "    print(warn_info)\n",
    "    print(error_info)\n",
    "    print(pd.DataFrame(pgd.search_res))\n",
    "    res.to_csv(r'./product_data/match_result.csv', encoding='utf_8_sig', index=False)\n",
    "\n",
    "    # 可以查看不同的参数组合下，匹配过程中的警告数量\n",
    "    print(pd.DataFrame(pgd.search_res))"
   ]
  },
  {
   "cell_type": "code",
   "execution_count": 12,
   "metadata": {},
   "outputs": [
    {
     "name": "stdout",
     "output_type": "stream",
     "text": [
      "0      2018/10/9 9:24\n",
      "1      2018/10/9 9:24\n",
      "2      2018/10/9 9:24\n",
      "3      2018/10/9 9:25\n",
      "4      2018/10/9 9:25\n",
      "            ...      \n",
      "183    2018/10/9 5:41\n",
      "184    2018/10/9 5:42\n",
      "185    2018/10/9 5:42\n",
      "186    2018/10/9 5:43\n",
      "187    2018/10/9 5:43\n",
      "Name: time, Length: 188, dtype: object\n"
     ]
    }
   ],
   "source": [
    "\n",
    "if __name__ == '__main__':\n",
    "    # 1.读取GPS数据\n",
    "    gps_df = pd.read_csv(r'./product_data/test.csv')\n",
    "    # gps_df['time'] = pd.to_datetime(gps_df['time'], format='%Y/%m/%d %H:%M:%S')\n",
    "    print(gps_df['time'])\n",
    "\n",
    "    # 2.构建一个net\n",
    "    # link = gpd.read_file(r'./product_data/roads/roads.shp')\n",
    "    # node = gpd.read_file(r'./product_data/nodes/nodes.shp')\n",
    "    # my_net = Net(link_gdf=link,\n",
    "    #              node_gdf=node,\n",
    "    #              fmm_cache=True, fmm_cache_fldr=r'./product_data', recalc_cache=True,\n",
    "    #              cut_off=800.0,\n",
    "    #              cache_slice=6)\n",
    "    # my_net.init_net()  # net初始化\n",
    "\n",
    "    # # 3. 匹配\n",
    "    # mpm = MapMatch(net=my_net, gps_buffer=100, flag_name='xa_sample',\n",
    "    #                use_sub_net=True, use_heading_inf=True, omitted_l=6.0,\n",
    "    #                del_dwell=True, dwell_l_length=50.0, dwell_n=0,\n",
    "    #                export_html=True, export_geo_res=True, use_gps_source=True,\n",
    "    #                export_all_agents=False,\n",
    "    #                out_fldr=r'./product_data/match_result', dense_gps=False,\n",
    "    #                gps_radius=15.0)\n",
    "\n",
    "    # # 4. 添加进度条\n",
    "    # # 使用 tqdm 包裹 gps_df 以显示进度\n",
    "\n",
    "    # # 这里使用 multi_core_execute 方法\n",
    "    # match_res, may_error_info, error_info = mpm.execute(gps_df=gps_df)\n",
    "\n",
    "    # # 输出结果\n",
    "    # print(match_res)\n",
    "    # match_res.to_csv(r'./product_data/match_result.csv', encoding='utf_8_sig', index=False)\n"
   ]
  }
 ],
 "metadata": {
  "kernelspec": {
   "display_name": "dataMining",
   "language": "python",
   "name": "python3"
  },
  "language_info": {
   "codemirror_mode": {
    "name": "ipython",
    "version": 3
   },
   "file_extension": ".py",
   "mimetype": "text/x-python",
   "name": "python",
   "nbconvert_exporter": "python",
   "pygments_lexer": "ipython3",
   "version": "3.11.10"
  }
 },
 "nbformat": 4,
 "nbformat_minor": 2
}
