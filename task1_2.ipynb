{
 "cells": [
  {
   "cell_type": "code",
   "execution_count": 2,
   "metadata": {},
   "outputs": [],
   "source": [
    "import pandas as pd\n",
    "import geopandas as gpd\n",
    "from gotrackit.map.Net import Net\n",
    "from gotrackit.MapMatch import MapMatch\n",
    "from gotrackit.model.Para import ParaGrid"
   ]
  },
  {
   "cell_type": "code",
   "execution_count": null,
   "metadata": {},
   "outputs": [],
   "source": [
    "\n",
    "if __name__ == '__main__':\n",
    "    # 1.读取GPS数据\n",
    "    gps_df = pd.read_csv(r'./product_data/gps_data.csv')\n",
    "    # gps_df['time'] = pd.to_datetime(gps_df['time'], format='%Y/%m/%d %H:%M:%S')\n",
    "    gps_df['time'] = gps_df['time'].str.replace('T', ' ').str.replace('Z', '').str.replace('/', '-')\n",
    "    print(gps_df.head())\n",
    "    # 2.构建一个net\n",
    "    link = gpd.read_file(r'./product_data/roads/roads.shp')\n",
    "    node = gpd.read_file(r'./product_data/nodes/nodes.shp')\n",
    "    my_net = Net(link_gdf=link,\n",
    "                 node_gdf=node,\n",
    "                 fmm_cache=True, fmm_cache_fldr=r'./product_data', recalc_cache=True,\n",
    "                 cut_off=1400.0,\n",
    "                 cache_slice=6)\n",
    "    my_net.init_net()  # net初始化\n",
    "\n",
    "    # 3. 匹配\n",
    "    mpm = MapMatch(net=my_net, gps_buffer=185, flag_name='xa_sample',\n",
    "                   use_sub_net=True, use_heading_inf=True, omitted_l=6.0,\n",
    "                   del_dwell=True, dwell_l_length=13.0, dwell_n=4,\n",
    "                   export_html=False, export_geo_res=False, use_gps_source=False,\n",
    "                   export_all_agents=True,\n",
    "                   out_fldr=r'./product_data/match_results', dense_gps=False,\n",
    "                   gps_radius=15.0, is_lower_f = False, dense_interval=110, beta=3, gps_sigma=17,top_k=35)\n",
    "    # 这里使用 multi_core_execute 方法\n",
    "    # match_res, may_error_info, error_info = mpm.execute(gps_df=gps_df)\n",
    "    match_res, may_error_info, error_info = mpm.multi_core_execute(gps_df=gps_df, core_num=6)\n",
    "    # 输出结果\n",
    "    print(match_res)\n",
    "    match_res.to_csv(r'./product_data/match_results/match_result.csv', encoding='utf_8_sig', index=False)\n"
   ]
  }
 ],
 "metadata": {
  "kernelspec": {
   "display_name": "dataMining",
   "language": "python",
   "name": "python3"
  },
  "language_info": {
   "codemirror_mode": {
    "name": "ipython",
    "version": 3
   },
   "file_extension": ".py",
   "mimetype": "text/x-python",
   "name": "python",
   "nbconvert_exporter": "python",
   "pygments_lexer": "ipython3",
   "version": "3.11.10"
  }
 },
 "nbformat": 4,
 "nbformat_minor": 2
}
