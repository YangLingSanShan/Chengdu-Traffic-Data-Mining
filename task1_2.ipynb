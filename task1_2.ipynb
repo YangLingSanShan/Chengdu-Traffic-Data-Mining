{
 "cells": [
  {
   "cell_type": "code",
   "execution_count": 2,
   "metadata": {},
   "outputs": [],
   "source": [
    "import pandas as pd\n",
    "import geopandas as gpd\n",
    "from gotrackit.map.Net import Net\n",
    "from gotrackit.MapMatch import MapMatch\n",
    "from gotrackit.model.Para import ParaGrid"
   ]
  },
  {
   "cell_type": "code",
   "execution_count": 3,
   "metadata": {},
   "outputs": [
    {
     "name": "stdout",
     "output_type": "stream",
     "text": [
      "         lng       lat                 time        type  agent_id  entity_id\n",
      "0  104.10242  30.66200  2018-10-09 09:24:02  trajectory         1          0\n",
      "1  104.10174  30.66395  2018-10-09 09:24:28  trajectory         1          0\n",
      "2  104.10048  30.66709  2018-10-09 09:24:58  trajectory         1          0\n",
      "3  104.10019  30.66779  2018-10-09 09:25:28  trajectory         1          0\n",
      "4  104.10010  30.66799  2018-10-09 09:25:58  trajectory         1          0\n",
      "a loop was detected in the line layer data, and it was automatically deleted...\n",
      "__init__ costs :0.3504300117492676 seconds!\n",
      "calc fmm cache...\n",
      "fmm_path_cache costs :5.907142400741577 seconds!\n",
      "using multiprocessing - 12 cores\n",
      "         agent_id  seq  sub_seq                time loc_type  link_id  \\\n",
      "0               1    0        0 2018-10-09 09:24:02        s     3821   \n",
      "1               1    0        1 2018-10-09 09:24:15        c      326   \n",
      "2               1    1        0 2018-10-09 09:24:28        s     4101   \n",
      "3               1    1        1 2018-10-09 09:24:38        c      160   \n",
      "4               1    1        2 2018-10-09 09:24:48        c     4112   \n",
      "...           ...  ...      ...                 ...      ...      ...   \n",
      "1063478     26627   48        4 2018-10-07 05:27:00        c     4329   \n",
      "1063479     26627   49        0 2018-10-07 05:27:06        s      187   \n",
      "1063480     26627   50        0 2018-10-07 05:27:36        s     2770   \n",
      "1063481     26627   50        1 2018-10-07 05:27:51        c      545   \n",
      "1063482     26627   51        0 2018-10-07 05:28:06        s      552   \n",
      "\n",
      "         from_node  to_node         lng        lat     prj_lng    prj_lat  \\\n",
      "0              396      394  104.102420  30.662000  104.103747  30.664128   \n",
      "1              394      395  104.102080  30.662975  104.103135  30.664253   \n",
      "2              395      198  104.101740  30.663950  104.101758  30.664306   \n",
      "3              198      200  104.101320  30.664997  104.099804  30.664749   \n",
      "4              200      675  104.100900  30.666043  104.099472  30.665699   \n",
      "...            ...      ...         ...        ...         ...        ...   \n",
      "1063478       2351      229  104.045970  30.694068  104.048503  30.693505   \n",
      "1063479        229      231  104.045410  30.693940  104.048345  30.693786   \n",
      "1063480        231      589  104.044310  30.693930  104.045560  30.693343   \n",
      "1063481        589      160  104.043475  30.693200  104.045063  30.693050   \n",
      "1063482        160      158  104.042640  30.692470  104.043554  30.691786   \n",
      "\n",
      "         dis_to_next  match_heading   route_dis  \n",
      "0         200.688575         354.28    0.000000  \n",
      "1                NaN            NaN   57.445777  \n",
      "2         442.313758         272.89   74.688575  \n",
      "3                NaN            NaN   43.069392  \n",
      "4                NaN            NaN   66.940428  \n",
      "...              ...            ...         ...  \n",
      "1063478          NaN            NaN   32.061636  \n",
      "1063479   272.113141         266.93   11.266179  \n",
      "1063480   260.120778         253.62  272.113141  \n",
      "1063481          NaN            NaN   57.641464  \n",
      "1063482          NaN         223.10  144.833919  \n",
      "\n",
      "[1063483 rows x 15 columns]\n"
     ]
    }
   ],
   "source": [
    "\n",
    "if __name__ == '__main__':\n",
    "    # 1.读取GPS数据\n",
    "    gps_df = pd.read_csv(r'./product_data/gps_data.csv')\n",
    "    # gps_df['time'] = pd.to_datetime(gps_df['time'], format='%Y/%m/%d %H:%M:%S')\n",
    "    gps_df['time'] = gps_df['time'].str.replace('T', ' ').str.replace('Z', '').str.replace('/', '-')\n",
    "    print(gps_df.head())\n",
    "    # 2.构建一个net\n",
    "    link = gpd.read_file(r'./product_data/roads/roads.shp')\n",
    "    node = gpd.read_file(r'./product_data/nodes/nodes.shp')\n",
    "    my_net = Net(link_gdf=link,\n",
    "                 node_gdf=node,\n",
    "                 fmm_cache=True, fmm_cache_fldr=r'./product_data', recalc_cache=True,\n",
    "                 cut_off=1800.0,\n",
    "                 not_conn_cost=800,\n",
    "                 cache_slice=6)\n",
    "    my_net.init_net()  # net初始化\n",
    "\n",
    "    # 3. 匹配\n",
    "    mpm = MapMatch(net=my_net, gps_buffer=1350, flag_name='xa_sample',\n",
    "                   use_sub_net=True, use_heading_inf=True, omitted_l=5.0,\n",
    "                   del_dwell=False, dwell_l_length=11.0, dwell_n=3,\n",
    "                   export_html=False, export_geo_res=False, use_gps_source=False,\n",
    "                   export_all_agents=False,\n",
    "                   out_fldr=r'./product_data/match_results', dense_gps=False,\n",
    "                   gps_radius=10.0, is_lower_f = False, dense_interval=140, beta=5, gps_sigma= 25,top_k=50)\n",
    "    # 这里使用 multi_core_execute 方法\n",
    "    # match_res, may_error_info, error_info = mpm.execute(gps_df=gps_df)\n",
    "    match_res, may_error_info, error_info = mpm.multi_core_execute(gps_df=gps_df, core_num=12)\n",
    "    # 输出结果\n",
    "    print(match_res)\n",
    "    match_res.to_csv(r'./product_data/match_results/match_result.csv', encoding='utf_8_sig', index=False)\n"
   ]
  }
 ],
 "metadata": {
  "kernelspec": {
   "display_name": "dataMining",
   "language": "python",
   "name": "python3"
  },
  "language_info": {
   "codemirror_mode": {
    "name": "ipython",
    "version": 3
   },
   "file_extension": ".py",
   "mimetype": "text/x-python",
   "name": "python",
   "nbconvert_exporter": "python",
   "pygments_lexer": "ipython3",
   "version": "3.11.10"
  }
 },
 "nbformat": 4,
 "nbformat_minor": 2
}
