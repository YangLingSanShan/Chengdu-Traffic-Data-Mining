{
 "cells": [
  {
   "cell_type": "markdown",
   "metadata": {},
   "source": [
    "## ETA"
   ]
  },
  {
   "cell_type": "code",
   "execution_count": 1,
   "metadata": {},
   "outputs": [],
   "source": [
    "import pandas as pd"
   ]
  },
  {
   "cell_type": "code",
   "execution_count": 3,
   "metadata": {},
   "outputs": [
    {
     "data": {
      "text/plain": [
       "1063483"
      ]
     },
     "execution_count": 3,
     "metadata": {},
     "output_type": "execute_result"
    }
   ],
   "source": [
    "data = pd.read_csv('./product_data/match_results/match_result.csv')\n",
    "len(data)"
   ]
  },
  {
   "cell_type": "code",
   "execution_count": null,
   "metadata": {},
   "outputs": [
    {
     "name": "stdout",
     "output_type": "stream",
     "text": [
      "————————————————————————————————————————————————————\n",
      "—        悟空天气网支持查询 经纬度 对应天气信息          —\n",
      "————————————————————————————————————————————————————\n"
     ]
    }
   ],
   "source": [
    "import requests\n",
    "import re\n",
    "session = requests.Session()\n",
    "print(\"————————————————————————————————————————————————————\")\n",
    "print(\"—        悟空天气网支持查询 经纬度 对应天气信息          —\")\n",
    "print(\"————————————————————————————————————————————————————\")\n",
    " \n",
    " \n",
    "def get_weather_info(lon, lat):\n",
    "    headers = {\n",
    "        'Accept': 'text/html,application/xhtml+xml,application/xml;q=0.9,'\n",
    "                  'image/avif,image/webp,image/apng,*/*;q=0.8,application/'\n",
    "                  'signed-exchange;v=b3;q=0.7',\n",
    "        'Accept-Encoding': 'gzip, deflate, br',\n",
    "        'Accept-Language': 'zh-CN,zh;q=0.9',\n",
    "        'Cache-Control': 'max-age=0',\n",
    "        'Content-Type': 'application/x-www-form-urlencoded',\n",
    "        'Cookie': f\"lon={lon}; lat={lat}\",\n",
    "        'Origin': 'https://wuknet.com',\n",
    "        'Referer': 'https://wuknet.com/weather',\n",
    "        'Sec-Ch-Ua': '\"Not.A/Brand\";v=\"8\", \"Chromium\";v=\"114\", \"Google Chrome\";v=\"114\"',\n",
    "        'Sec-Ch-Ua-Mobile': '?0',\n",
    "        'Sec-Ch-Ua-Platform': 'macOS',\n",
    "        'Sec-Fetch-Dest': 'document',\n",
    "        'Sec-Fetch-Mode': 'navigate',\n",
    "        'Sec-Fetch-Site': 'same-origin',\n",
    "        'Sec-Fetch-User': '?1',\n",
    "        'Upgrade-Insecure-Requests': '1',\n",
    "        'User-Agent':'Mozilla/5.0 (Macintosh; Intel Mac OS X 10_15_7) '\n",
    "                     'AppleWebKit/537.36 (KHTML, like Gecko) Chrome/114.0.0.0 Safari/537.36',\n",
    "        }\n",
    " \n",
    "    target_url = 'https://wuknet.com/weather'\n",
    "    response = requests.post(url=target_url, headers=headers).text\n",
    "    #print(response)\n",
    "    ex_weather = r'<td>实时：<b>(.*?)</b>'\n",
    "    ex_sense_tem = r'\">感知度：(.*?)&.*?</span>'\n",
    " \n",
    "    ex_highest_tem = r'<span class=\"wable\">最高温：(.*?) &.*?</span>'\n",
    "    ex_lowest_tem = r'<span class=\"wable\">最低温：(.*?) &.*?</span>'\n",
    "    ex_humidity = r'<span class=\"wable\">湿度：(.*?)</span>'\n",
    " \n",
    "    ex_pressure = r'<span class=\"wable\">大气压力：(.*?)&.*?</span>'\n",
    "    ex_cloud = r'<span class=\"wable\">云量：(.*?)</span>'\n",
    " \n",
    "    ex_atmosphere_tem = r'<span class=\"wable\">大气温度：(.*?)&.*?</span>'\n",
    " \n",
    "    ex_wind_speed = r'<span class=\"wable\">风速：(.*?)</span>'\n",
    "    ex_wind_direction = r'<span class=\"wable\">风向：(.*?)</span>'\n",
    " \n",
    "    ex_ultraviolet = r'<span class=\"wable\">紫外线指数(.*?)</span>'\n",
    "    ex_visibility = r'<span class=\"wable\">平均能见度：(.*?)</span>'\n",
    " \n",
    "    ex_sun_up = r'<span class=\"wable\">日出时间：(.*?)</span>'\n",
    "    ex_sun_down = r'<span class=\"wable\">日落时间：(.*?)</span>'\n",
    " \n",
    "    weather = re.findall(ex_weather, response, re.S)\n",
    "    sense_tem = re.findall(ex_sense_tem, response, re.S)\n",
    " \n",
    "    highest_tem = re.findall(ex_highest_tem, response, re.S)\n",
    "    lowest_tem = re.findall(ex_lowest_tem, response, re.S)\n",
    "    humidity = re.findall(ex_humidity, response, re.S)\n",
    " \n",
    "    pressure = re.findall(ex_pressure, response, re.S)\n",
    "    cloud = re.findall(ex_cloud, response, re.S)\n",
    " \n",
    "    atmosphere_tem = re.findall(ex_atmosphere_tem, response, re.S)\n",
    " \n",
    "    wind_speed = re.findall(ex_wind_speed, response, re.S)\n",
    "    win_direction = re.findall(ex_wind_direction, response, re.S)\n",
    " \n",
    "    ultraviolet = re.findall(ex_ultraviolet, response, re.S)\n",
    "    visibility = re.findall(ex_visibility, response, re.S)\n",
    " \n",
    "    sun_up = re.findall(ex_sun_up, response, re.S)\n",
    "    sun_down = re.findall(ex_sun_down, response, re.S)\n",
    "    print(f\"\\n为您查询到「经度：{lon}-纬度：{lat}」的如下天气信息\")\n",
    "    print(f\"当前天气：{weather[0]}\")\n",
    "    print(f\"体感温度：{sense_tem[0]}\")\n",
    "    print(f\"最高气温：{highest_tem[0]}\")\n",
    "    print(f\"最低气温：{lowest_tem[0]}\")\n",
    "    print(f\"湿度：{humidity[0]}\")\n",
    "    print(f\"大气压力：{pressure[0]}\")\n",
    "    print(f\"云量：{cloud[0]}\")\n",
    "    print(f\"大气温度：{atmosphere_tem[0]}\")\n",
    "    print(f\"风速：{wind_speed[0]}\")\n",
    "    print(f\"风向：{win_direction[0]}\")\n",
    "    print(f\"紫外线指数：{ultraviolet[0]}\")\n",
    "    print(f\"平均能见度：{visibility[0]}\")\n",
    "    print(f\"日出时间：{sun_up[0]}\")\n",
    "    print(f\"日落时间：{sun_down[0]}\\n\")\n",
    " \n",
    " \n",
    "lon = 104.10242 # float(input(\"请输入经度（小数形式）:\"))\n",
    "lat = 30.662 # float(input(\"请输入纬度（小数形式）:\"))\n",
    "get_weather_info(lon, lat)"
   ]
  }
 ],
 "metadata": {
  "kernelspec": {
   "display_name": "dataMining",
   "language": "python",
   "name": "python3"
  },
  "language_info": {
   "codemirror_mode": {
    "name": "ipython",
    "version": 3
   },
   "file_extension": ".py",
   "mimetype": "text/x-python",
   "name": "python",
   "nbconvert_exporter": "python",
   "pygments_lexer": "ipython3",
   "version": "3.11.10"
  }
 },
 "nbformat": 4,
 "nbformat_minor": 2
}
